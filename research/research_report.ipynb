{
 "cells": [
  {
   "cell_type": "markdown",
   "source": [
    "# Исследование в области обнаружения трёхмерных объектов по их изображениям"
   ],
   "metadata": {}
  },
  {
   "cell_type": "markdown",
   "source": [
    "## Введение"
   ],
   "metadata": {}
  },
  {
   "cell_type": "markdown",
   "source": [
    "Objectron"
   ],
   "metadata": {}
  },
  {
   "cell_type": "markdown",
   "source": [
    "![ChessUrl](https://production-media.paperswithcode.com/datasets/Objectron-0000004998-c762a809.gif \"chess\")"
   ],
   "metadata": {}
  },
  {
   "cell_type": "markdown",
   "source": [],
   "metadata": {}
  }
 ],
 "metadata": {
  "orig_nbformat": 4,
  "language_info": {
   "name": "python",
   "version": "3.8.10",
   "mimetype": "text/x-python",
   "codemirror_mode": {
    "name": "ipython",
    "version": 3
   },
   "pygments_lexer": "ipython3",
   "nbconvert_exporter": "python",
   "file_extension": ".py"
  },
  "kernelspec": {
   "name": "python3",
   "display_name": "Python 3.8.10 64-bit"
  },
  "interpreter": {
   "hash": "916dbcbb3f70747c44a77c7bcd40155683ae19c65e1c03b4aa3499c5328201f1"
  }
 },
 "nbformat": 4,
 "nbformat_minor": 2
}